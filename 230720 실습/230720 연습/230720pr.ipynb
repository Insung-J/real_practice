{
 "cells": [
  {
   "cell_type": "code",
   "execution_count": 1,
   "metadata": {},
   "outputs": [
    {
     "name": "stdout",
     "output_type": "stream",
     "text": [
      "2\n"
     ]
    }
   ],
   "source": [
    "a =2 \n",
    "print(a)"
   ]
  },
  {
   "cell_type": "code",
   "execution_count": 2,
   "metadata": {},
   "outputs": [],
   "source": [
    "number = int(input('양의 정수를 입력해주세요 : '))"
   ]
  },
  {
   "cell_type": "code",
   "execution_count": 3,
   "metadata": {},
   "outputs": [
    {
     "name": "stdout",
     "output_type": "stream",
     "text": [
      "잘했습니다!\n"
     ]
    }
   ],
   "source": [
    "number = int(input('양의 정수를 입력해주세요 : '))\n",
    "\n",
    "while number <= 0:\n",
    "    if number < 0:\n",
    "        print('음수를 입력했습니다.')\n",
    "    else:\n",
    "        print('0은 양의 정수가 아닙니다.')\n",
    "        \n",
    "    number = int(input('양의 정수를 입력해주세요.: '))\n",
    "    \n",
    "print('잘했습니다!')"
   ]
  },
  {
   "cell_type": "code",
   "execution_count": 4,
   "metadata": {},
   "outputs": [
    {
     "name": "stdout",
     "output_type": "stream",
     "text": [
      "음수를 입력했습니다.\n",
      "0은 양의 정수가 아닙니다.\n",
      "잘했습니다!\n"
     ]
    }
   ],
   "source": [
    "number = int(input('양의 정수를 입력해주세요 : '))\n",
    "\n",
    "while number <= 0:\n",
    "    if number < 0:\n",
    "        print('음수를 입력했습니다.')\n",
    "    else:\n",
    "        print('0은 양의 정수가 아닙니다.')\n",
    "        \n",
    "    number = int(input('양의 정수를 입력해주세요.: '))\n",
    "\n",
    "print('잘했습니다!')"
   ]
  },
  {
   "cell_type": "code",
   "execution_count": 6,
   "metadata": {},
   "outputs": [],
   "source": [
    "for number in range(1, 5):\n",
    "    if number == 3:\n",
    "        continue\n",
    "    print(number)"
   ]
  }
 ],
 "metadata": {
  "kernelspec": {
   "display_name": "Python 3",
   "language": "python",
   "name": "python3"
  },
  "language_info": {
   "codemirror_mode": {
    "name": "ipython",
    "version": 3
   },
   "file_extension": ".py",
   "mimetype": "text/x-python",
   "name": "python",
   "nbconvert_exporter": "python",
   "pygments_lexer": "ipython3",
   "version": "3.11.4"
  },
  "orig_nbformat": 4
 },
 "nbformat": 4,
 "nbformat_minor": 2
}
